{
  "cells": [
    {
      "cell_type": "markdown",
      "metadata": {},
      "source": [
        "# Ejercicio: Uso de funciones en Python"
      ]
    },
    {
      "cell_type": "markdown",
      "metadata": {},
      "source": [
        "### Ejercicio 1: Trabajar con argumentos en funciones\n",
        "\n",
        "Los argumentos requeridos en las funciones se utilizan cuando las funciones necesitan que esos argumentos funcionen correctamente. En este ejercicio, construirás un informe de combustible que requiere información de varias ubicaciones de combustible en todo el cohete.\n",
        "\n"
      ]
    },
    {
      "cell_type": "markdown",
      "metadata": {},
      "source": [
        "> **TIP**\n",
        "> Dedica unos minutos para tratar de encontrar una solución. Luego desplázate hacia abajo hasta la parte inferior para ver si has logrado compilar el programa de acuerdo con las especificaciones\n",
        "\n",
        "Comienza por crear una función que necesite tres lecturas de combustible y devuelva un informe:"
      ]
    },
    {
      "cell_type": "code",
      "execution_count": 2,
      "metadata": {},
      "outputs": [],
      "source": [
        "# Función para leer 3 tanques de combustible y muestre el promedio\n",
        "def fuel_tanks(tank1, tank2, tank3):\n",
        "    return f\"\"\"Fuel Tanks:\n",
        "    Average: {((tank1 + tank2 + tank3)/3)} L\n",
        "    Tank 1: {tank1} L\n",
        "    Tank 2: {tank2} L\n",
        "    Tank 3: {tank3} L\"\"\"\n"
      ]
    },
    {
      "cell_type": "markdown",
      "metadata": {},
      "source": [
        "Ahora que hemos definido la función de informes, vamos a comprobarlo. Para esta misión, los tanques no están llenos:"
      ]
    },
    {
      "cell_type": "code",
      "execution_count": 3,
      "metadata": {},
      "outputs": [
        {
          "name": "stdout",
          "output_type": "stream",
          "text": [
            "Fuel Tanks:\n",
            "    Average: 0.0 L\n",
            "    Tank 1: 0 L\n",
            "    Tank 2: 0 L\n",
            "    Tank 3: 0 L\n"
          ]
        }
      ],
      "source": [
        "\n",
        "# Llamamos a la función que genera el reporte print(funcion(tanque1, tanque2, tanque3))\n",
        "print(fuel_tanks(0,0,0))\n"
      ]
    },
    {
      "cell_type": "markdown",
      "metadata": {},
      "source": [
        "En lugar de simplemente crear el informe, la función también está calculando el promedio. Mejora la legibilidad extrayendo el cálculo promedio de la función en una nueva función para que el promedio se pueda hacer de forma independiente:"
      ]
    },
    {
      "cell_type": "code",
      "execution_count": 4,
      "metadata": {},
      "outputs": [],
      "source": [
        "# Función promedio \n",
        "def promedio(tanks):\n",
        "    total = sum(tanks)\n",
        "    number_of_values = len(tanks)\n",
        "    return total / number_of_values"
      ]
    },
    {
      "cell_type": "markdown",
      "metadata": {},
      "source": [
        "Ahora actualiza la función de informes para llamando a la nueva función del promedio:\n"
      ]
    },
    {
      "cell_type": "code",
      "execution_count": 5,
      "metadata": {},
      "outputs": [
        {
          "name": "stdout",
          "output_type": "stream",
          "text": [
            "Fuel Tanks:\n",
            "    Average: 23.333333333333332 L\n",
            "    Tank 1: 15 L\n",
            "    Tank 2: 25 L\n",
            "    Tank 3: 30 L\n"
          ]
        }
      ],
      "source": [
        "# Actualiza la función\n",
        "def fuel_tanks(tank1, tank2, tank3):\n",
        "    return f\"\"\"Fuel Tanks:\n",
        "    Average: {promedio([tank1,tank2,tank3])} L\n",
        "    Tank 1: {tank1} L\n",
        "    Tank 2: {tank2} L\n",
        "    Tank 3: {tank3} L\"\"\"\n",
        "print(fuel_tanks(15,25,30))"
      ]
    },
    {
      "cell_type": "markdown",
      "metadata": {},
      "source": [
        "> Recuerda: Lo importante es intentarlo, puedes auxiliarte de internet, libros, etc. El objetivo de una kata es la comprobación de la comprensión de la lección y su aplicación inmediata a la resolución de problemas. Go for it!"
      ]
    },
    {
      "cell_type": "markdown",
      "metadata": {},
      "source": [
        "## Ejercicio 2: Trabajo con argumentos de palabra clave"
      ]
    },
    {
      "cell_type": "markdown",
      "metadata": {},
      "source": [
        "### Ejercicio : Trabajar con argumentos de palabras clave en funciones\n",
        "En este ejercicio, construirás un informe de cohete que requiere varias piezas de información, como el tiempo hasta el destino, el combustible a la izquierda y el nombre del destino. Comienza por crear una función que creará un informe preciso de la misión:"
      ]
    },
    {
      "cell_type": "code",
      "execution_count": 6,
      "metadata": {},
      "outputs": [
        {
          "name": "stdout",
          "output_type": "stream",
          "text": [
            "Informe de misión:\n",
            "    Hora de prelanzamiento: 15 h\n",
            "    Tiempo de vuelo: 200 h\n",
            "    Destino: Luna\n",
            "    Tanque externo: 30 L.\n",
            "    Tanque interno: 50 L.\n"
          ]
        }
      ],
      "source": [
        "# Función con un informe preciso de la misión. Considera hora de prelanzamiento, tiempo de vuelo, destino, tanque externo y tanque interno\n",
        "def full_inform(Hora_prelanzamiento,tiempo_vuelo,destino,tanque_externo,tanque_interno):\n",
        "    return f\"\"\"Informe de misión:\n",
        "    Hora de prelanzamiento: {Hora_prelanzamiento} h\n",
        "    Tiempo de vuelo: {tiempo_vuelo} h\n",
        "    Destino: {destino}\n",
        "    Tanque externo: {tanque_externo} L.\n",
        "    Tanque interno: {tanque_interno} L.\"\"\"\n",
        "print(full_inform(15,200,'Luna',30,50))"
      ]
    },
    {
      "cell_type": "markdown",
      "metadata": {},
      "source": [
        "La función es problemática porque no se puede adaptar para minutos adicionales o tanques adicionales de combustible. Hazlo más flexible permitiendo cualquier número de pasos basados en el tiempo y cualquier número de tanques. En lugar de usar `*args` y `**kwargs`, aprovecha el hecho de que puedes usar cualquier nombre que desees. Asegurate que la función sea más legible mediante el uso de nombres de variables que están asociados con las entradas, como `*minutes` y `**fuel_reservoirs`:"
      ]
    },
    {
      "cell_type": "code",
      "execution_count": 7,
      "metadata": {},
      "outputs": [
        {
          "name": "stdout",
          "output_type": "stream",
          "text": [
            "Informe de misión:\n",
            "    Tiempo total: 15 minutos.\n",
            "    Destino: Luna\n",
            "    Tanques de combustible: 3000 L.\n"
          ]
        }
      ],
      "source": [
        "# Escribe tu nueva función de reporte considerando lo anterior\n",
        "def full_inform(destino, *tiempo_total, **tanques):\n",
        "    return f\"\"\"Informe de misión:\n",
        "    Tiempo total: {sum(tiempo_total)} minutos.\n",
        "    Destino: {destino}\n",
        "    Tanques de combustible: {sum(tanques.values())} L.\"\"\"\n",
        "print(full_inform('Luna',1,2,3,4,5, externo=2000, interno=1000))"
      ]
    },
    {
      "cell_type": "markdown",
      "metadata": {},
      "source": [
        "Debido a que el combustible que queda en los tanques es específico de cada tanque, actualiza la función para usar el nombre de cada tanque en el informe:"
      ]
    },
    {
      "cell_type": "code",
      "execution_count": 16,
      "metadata": {},
      "outputs": [
        {
          "name": "stdout",
          "output_type": "stream",
          "text": [
            "Informe de misión:\n",
            "    Tiempo total: 15 minutos.\n",
            "    Destino: Luna\n",
            "    Tanques de combustible: 3000 L.\n",
            "    Tanque externo: 2000 L\n",
            "Tanque interno: 1000 L\n",
            "\n"
          ]
        }
      ],
      "source": [
        "# Escribe tu nueva función\n",
        "def full_inform(destino, *tiempo_total, **tanques):\n",
        "    informe = f\"\"\"Informe de misión:\n",
        "    Tiempo total: {sum(tiempo_total)} minutos.\n",
        "    Destino: {destino}\n",
        "    Tanques de combustible: {sum(tanques.values())} L.\n",
        "    \"\"\"\n",
        "    for tanque, litros in tanques.items():\n",
        "        informe += f'Tanque {tanque}: {litros} L\\n'\n",
        "\n",
        "    return informe\n",
        "\n",
        "print(full_inform('Luna',1,2,3,4,5, externo=2000, interno=1000))\n",
        "\n"
      ]
    },
    {
      "cell_type": "markdown",
      "metadata": {},
      "source": [
        "---\n",
        "\n",
        "Curso Propedútico de Python para Launch X - Innovacción Virtual.\n",
        "\n",
        "Material desarrollado con base en los contenidos de MSLearn y la metáfora de LaunchX, traducción e implementación por: Fernanda Ochoa - Learning Producer de LaunchX.\n",
        "\n",
        "Redes:\n",
        "* GitHub: [FernandaOchoa](https://github.com/FernandaOchoa)\n",
        "* Twitter: [@imonsh](https://twitter.com/imonsh)\n",
        "* Instagram: [fherz8a](https://www.instagram.com/fherz8a/)"
      ]
    }
  ],
  "metadata": {
    "interpreter": {
      "hash": "205095b8b86ea82a021a8fc2ffba2b3bc9f8d0be25999901963b225939f75778"
    },
    "kernelspec": {
      "display_name": "Python 3.8.10 64-bit ('tmp': conda)",
      "name": "python3"
    },
    "language_info": {
      "codemirror_mode": {
        "name": "ipython",
        "version": 3
      },
      "file_extension": ".py",
      "mimetype": "text/x-python",
      "name": "python",
      "nbconvert_exporter": "python",
      "pygments_lexer": "ipython3",
      "version": "3.10.2"
    },
    "nteract": {
      "version": "nteract-front-end@1.0.0"
    },
    "orig_nbformat": 4
  },
  "nbformat": 4,
  "nbformat_minor": 2
}
